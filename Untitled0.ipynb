{
  "nbformat": 4,
  "nbformat_minor": 0,
  "metadata": {
    "colab": {
      "name": "Untitled0.ipynb",
      "provenance": [],
      "collapsed_sections": []
    },
    "kernelspec": {
      "name": "python3",
      "display_name": "Python 3"
    }
  },
  "cells": [
    {
      "cell_type": "markdown",
      "metadata": {
        "id": "dvr78O8TrsIV"
      },
      "source": [
        "# **Numpy**"
      ]
    },
    {
      "cell_type": "code",
      "metadata": {
        "id": "jDnB9k3tOsfO"
      },
      "source": [
        "import numpy as np"
      ],
      "execution_count": 1,
      "outputs": []
    },
    {
      "cell_type": "code",
      "metadata": {
        "id": "khzpa1e8OxDE"
      },
      "source": [
        "benim_listem = np.random.randint(100, size = 3)"
      ],
      "execution_count": 5,
      "outputs": []
    },
    {
      "cell_type": "code",
      "metadata": {
        "colab": {
          "base_uri": "https://localhost:8080/"
        },
        "id": "sUhwCzJAO2nq",
        "outputId": "06fcd4bc-53f8-45f4-a7a0-48a02fcb7ed2"
      },
      "source": [
        "np.array(benim_listem)"
      ],
      "execution_count": 6,
      "outputs": [
        {
          "output_type": "execute_result",
          "data": {
            "text/plain": [
              "array([83, 86, 70])"
            ]
          },
          "metadata": {
            "tags": []
          },
          "execution_count": 6
        }
      ]
    },
    {
      "cell_type": "code",
      "metadata": {
        "colab": {
          "base_uri": "https://localhost:8080/"
        },
        "id": "ZCOWiLgigJ9v",
        "outputId": "8d644329-6bea-4501-b98f-6880834e65f2"
      },
      "source": [
        "matrix = [[1,2,3,],[4,5,6],[7,8,9]]\r\n",
        "\r\n",
        "np.array(matrix)"
      ],
      "execution_count": 8,
      "outputs": [
        {
          "output_type": "execute_result",
          "data": {
            "text/plain": [
              "array([[1, 2, 3],\n",
              "       [4, 5, 6],\n",
              "       [7, 8, 9]])"
            ]
          },
          "metadata": {
            "tags": []
          },
          "execution_count": 8
        }
      ]
    },
    {
      "cell_type": "code",
      "metadata": {
        "colab": {
          "base_uri": "https://localhost:8080/"
        },
        "id": "qEuDytyFgZVy",
        "outputId": "60a90f8f-7dd7-4f9b-9047-e205e4b9215b"
      },
      "source": [
        "rangee = np.arange(0,100, 5 )\r\n",
        "print(rangee)"
      ],
      "execution_count": 10,
      "outputs": [
        {
          "output_type": "stream",
          "text": [
            "[ 0  5 10 15 20 25 30 35 40 45 50 55 60 65 70 75 80 85 90 95]\n"
          ],
          "name": "stdout"
        }
      ]
    },
    {
      "cell_type": "code",
      "metadata": {
        "colab": {
          "base_uri": "https://localhost:8080/"
        },
        "id": "IcFmNrLUgsu7",
        "outputId": "116f02a1-9c68-4812-fddb-2c689b244be1"
      },
      "source": [
        "sifirlar = np.zeros(5)\r\n",
        "sifirlar"
      ],
      "execution_count": 12,
      "outputs": [
        {
          "output_type": "execute_result",
          "data": {
            "text/plain": [
              "array([0., 0., 0., 0., 0.])"
            ]
          },
          "metadata": {
            "tags": []
          },
          "execution_count": 12
        }
      ]
    },
    {
      "cell_type": "code",
      "metadata": {
        "colab": {
          "base_uri": "https://localhost:8080/"
        },
        "id": "rIPvtITig6Dm",
        "outputId": "d6f010de-3e0e-4602-c5ce-5eea2f460cd6"
      },
      "source": [
        "np.zeros((10,10)) # arange de olmuyor"
      ],
      "execution_count": 14,
      "outputs": [
        {
          "output_type": "execute_result",
          "data": {
            "text/plain": [
              "array([[0., 0., 0., 0., 0., 0., 0., 0., 0., 0.],\n",
              "       [0., 0., 0., 0., 0., 0., 0., 0., 0., 0.],\n",
              "       [0., 0., 0., 0., 0., 0., 0., 0., 0., 0.],\n",
              "       [0., 0., 0., 0., 0., 0., 0., 0., 0., 0.],\n",
              "       [0., 0., 0., 0., 0., 0., 0., 0., 0., 0.],\n",
              "       [0., 0., 0., 0., 0., 0., 0., 0., 0., 0.],\n",
              "       [0., 0., 0., 0., 0., 0., 0., 0., 0., 0.],\n",
              "       [0., 0., 0., 0., 0., 0., 0., 0., 0., 0.],\n",
              "       [0., 0., 0., 0., 0., 0., 0., 0., 0., 0.],\n",
              "       [0., 0., 0., 0., 0., 0., 0., 0., 0., 0.]])"
            ]
          },
          "metadata": {
            "tags": []
          },
          "execution_count": 14
        }
      ]
    },
    {
      "cell_type": "code",
      "metadata": {
        "colab": {
          "base_uri": "https://localhost:8080/"
        },
        "id": "0E2OExYUhGbg",
        "outputId": "5c09dff6-df59-452d-9e8f-d2c11819c4e6"
      },
      "source": [
        "np.ones((10,10))"
      ],
      "execution_count": 15,
      "outputs": [
        {
          "output_type": "execute_result",
          "data": {
            "text/plain": [
              "array([[1., 1., 1., 1., 1., 1., 1., 1., 1., 1.],\n",
              "       [1., 1., 1., 1., 1., 1., 1., 1., 1., 1.],\n",
              "       [1., 1., 1., 1., 1., 1., 1., 1., 1., 1.],\n",
              "       [1., 1., 1., 1., 1., 1., 1., 1., 1., 1.],\n",
              "       [1., 1., 1., 1., 1., 1., 1., 1., 1., 1.],\n",
              "       [1., 1., 1., 1., 1., 1., 1., 1., 1., 1.],\n",
              "       [1., 1., 1., 1., 1., 1., 1., 1., 1., 1.],\n",
              "       [1., 1., 1., 1., 1., 1., 1., 1., 1., 1.],\n",
              "       [1., 1., 1., 1., 1., 1., 1., 1., 1., 1.],\n",
              "       [1., 1., 1., 1., 1., 1., 1., 1., 1., 1.]])"
            ]
          },
          "metadata": {
            "tags": []
          },
          "execution_count": 15
        }
      ]
    },
    {
      "cell_type": "code",
      "metadata": {
        "colab": {
          "base_uri": "https://localhost:8080/"
        },
        "id": "fRLW43dqhPBo",
        "outputId": "59a4a523-3b41-4ac2-cce4-18c46c243b7a"
      },
      "source": [
        "iki_rakam_arasi_bosluk = np.linspace(0,100,5) # rakamı 5 parçaya ayırıyo\r\n",
        "iki_rakam_arasi_bosluk"
      ],
      "execution_count": 18,
      "outputs": [
        {
          "output_type": "execute_result",
          "data": {
            "text/plain": [
              "array([  0.,  25.,  50.,  75., 100.])"
            ]
          },
          "metadata": {
            "tags": []
          },
          "execution_count": 18
        }
      ]
    },
    {
      "cell_type": "code",
      "metadata": {
        "colab": {
          "base_uri": "https://localhost:8080/"
        },
        "id": "q8uGen8shl_P",
        "outputId": "84ecc465-a129-42d4-c250-df41dab58d8f"
      },
      "source": [
        "linspaceornek2= np.linspace(0,300,8)\r\n",
        "linspaceornek2"
      ],
      "execution_count": 20,
      "outputs": [
        {
          "output_type": "execute_result",
          "data": {
            "text/plain": [
              "array([  0.        ,  42.85714286,  85.71428571, 128.57142857,\n",
              "       171.42857143, 214.28571429, 257.14285714, 300.        ])"
            ]
          },
          "metadata": {
            "tags": []
          },
          "execution_count": 20
        }
      ]
    },
    {
      "cell_type": "code",
      "metadata": {
        "colab": {
          "base_uri": "https://localhost:8080/"
        },
        "id": "S_9SeyCkh1-8",
        "outputId": "517c2575-2c3a-4ee8-fa37-194e0ff762d5"
      },
      "source": [
        "np.eye(5)"
      ],
      "execution_count": 21,
      "outputs": [
        {
          "output_type": "execute_result",
          "data": {
            "text/plain": [
              "array([[1., 0., 0., 0., 0.],\n",
              "       [0., 1., 0., 0., 0.],\n",
              "       [0., 0., 1., 0., 0.],\n",
              "       [0., 0., 0., 1., 0.],\n",
              "       [0., 0., 0., 0., 1.]])"
            ]
          },
          "metadata": {
            "tags": []
          },
          "execution_count": 21
        }
      ]
    },
    {
      "cell_type": "code",
      "metadata": {
        "colab": {
          "base_uri": "https://localhost:8080/"
        },
        "id": "uZJYSXlQh8Zu",
        "outputId": "4d296021-7144-4198-cf38-17288ed65855"
      },
      "source": [
        "np.random.randn(5)"
      ],
      "execution_count": 22,
      "outputs": [
        {
          "output_type": "execute_result",
          "data": {
            "text/plain": [
              "array([ 0.80539446,  1.11277947, -0.50596461,  0.68328592, -0.96463292])"
            ]
          },
          "metadata": {
            "tags": []
          },
          "execution_count": 22
        }
      ]
    },
    {
      "cell_type": "code",
      "metadata": {
        "colab": {
          "base_uri": "https://localhost:8080/"
        },
        "id": "CeP6w3y9iMZz",
        "outputId": "392509c3-7152-4151-f649-b4c98fded7cc"
      },
      "source": [
        "np.random.randn(5,5)"
      ],
      "execution_count": 24,
      "outputs": [
        {
          "output_type": "execute_result",
          "data": {
            "text/plain": [
              "array([[ 0.2992762 , -0.91492101, -0.81043375, -1.34046775, -0.64120171],\n",
              "       [ 0.17513484, -0.01813547,  0.90106682, -0.03534205,  1.11498907],\n",
              "       [-0.10188398,  1.62148782,  0.55359839,  0.46306529, -0.11590158],\n",
              "       [-0.63725229, -0.08139255, -0.14072872,  0.96157372, -1.43440054],\n",
              "       [ 1.72112345,  0.19344557,  0.10727138,  0.3280226 , -2.05635866]])"
            ]
          },
          "metadata": {
            "tags": []
          },
          "execution_count": 24
        }
      ]
    },
    {
      "cell_type": "code",
      "metadata": {
        "colab": {
          "base_uri": "https://localhost:8080/"
        },
        "id": "ybgC9AEpiR1Q",
        "outputId": "86b8be95-2e31-46a1-f9db-ac1315c44508"
      },
      "source": [
        "np.random.randint(0,10)"
      ],
      "execution_count": 25,
      "outputs": [
        {
          "output_type": "execute_result",
          "data": {
            "text/plain": [
              "4"
            ]
          },
          "metadata": {
            "tags": []
          },
          "execution_count": 25
        }
      ]
    },
    {
      "cell_type": "code",
      "metadata": {
        "colab": {
          "base_uri": "https://localhost:8080/"
        },
        "id": "JiyBIuzqiYCb",
        "outputId": "1c87fbbb-1f61-4333-f855-417983dd199e"
      },
      "source": [
        "np.random.randint(0,10,5)"
      ],
      "execution_count": 26,
      "outputs": [
        {
          "output_type": "execute_result",
          "data": {
            "text/plain": [
              "array([9, 6, 8, 3, 0])"
            ]
          },
          "metadata": {
            "tags": []
          },
          "execution_count": 26
        }
      ]
    },
    {
      "cell_type": "code",
      "metadata": {
        "id": "9OBKA4RRikG4"
      },
      "source": [
        ""
      ],
      "execution_count": null,
      "outputs": []
    },
    {
      "cell_type": "markdown",
      "metadata": {
        "id": "i-CBmi82jBhN"
      },
      "source": [
        "Reshape"
      ]
    },
    {
      "cell_type": "code",
      "metadata": {
        "colab": {
          "base_uri": "https://localhost:8080/"
        },
        "id": "W4OF8FFvjFm0",
        "outputId": "1cd6a2a2-3271-4d0c-ea04-d42320ef23fe"
      },
      "source": [
        "benim_rand_list= np.random.randint(0,100,30)\r\n",
        "benim_rand_list.reshape(6,5) # liste elemanı sasyısından daha az olamaz fonksiyona vereceğimiz 2 sayının çarpımı"
      ],
      "execution_count": 28,
      "outputs": [
        {
          "output_type": "execute_result",
          "data": {
            "text/plain": [
              "array([[ 3, 90, 70, 89,  3],\n",
              "       [71, 70, 39, 81, 47],\n",
              "       [65, 34, 23, 86, 98],\n",
              "       [47,  9, 10, 53, 63],\n",
              "       [79, 88, 50, 72, 52],\n",
              "       [75, 49, 97, 89, 31]])"
            ]
          },
          "metadata": {
            "tags": []
          },
          "execution_count": 28
        }
      ]
    },
    {
      "cell_type": "code",
      "metadata": {
        "colab": {
          "base_uri": "https://localhost:8080/"
        },
        "id": "GFne3Opjjnlp",
        "outputId": "d65b0e55-be13-4121-ec5c-d6870422d72e"
      },
      "source": [
        "benim_rand_list.max()\r\n"
      ],
      "execution_count": 30,
      "outputs": [
        {
          "output_type": "execute_result",
          "data": {
            "text/plain": [
              "98"
            ]
          },
          "metadata": {
            "tags": []
          },
          "execution_count": 30
        }
      ]
    },
    {
      "cell_type": "code",
      "metadata": {
        "colab": {
          "base_uri": "https://localhost:8080/"
        },
        "id": "7nDHwnV-jwQr",
        "outputId": "b062a926-dd99-4ce2-f431-0d609a70c729"
      },
      "source": [
        "benim_rand_list.min()"
      ],
      "execution_count": 31,
      "outputs": [
        {
          "output_type": "execute_result",
          "data": {
            "text/plain": [
              "3"
            ]
          },
          "metadata": {
            "tags": []
          },
          "execution_count": 31
        }
      ]
    },
    {
      "cell_type": "code",
      "metadata": {
        "colab": {
          "base_uri": "https://localhost:8080/"
        },
        "id": "MLeqpjSOj8Ry",
        "outputId": "0d8e40d8-dacd-4670-ecf1-2f5f8312e2ba"
      },
      "source": [
        "benim_rand_list.argmax() # en  büyük sayımızın kaçıncı indexte olduğunu verir"
      ],
      "execution_count": 32,
      "outputs": [
        {
          "output_type": "execute_result",
          "data": {
            "text/plain": [
              "14"
            ]
          },
          "metadata": {
            "tags": []
          },
          "execution_count": 32
        }
      ]
    },
    {
      "cell_type": "code",
      "metadata": {
        "colab": {
          "base_uri": "https://localhost:8080/"
        },
        "id": "KFNCBSoUkDXZ",
        "outputId": "72c1b268-956b-41fc-f09d-e7d60c124f0e"
      },
      "source": [
        "benim_rand_list.argmin()"
      ],
      "execution_count": 33,
      "outputs": [
        {
          "output_type": "execute_result",
          "data": {
            "text/plain": [
              "0"
            ]
          },
          "metadata": {
            "tags": []
          },
          "execution_count": 33
        }
      ]
    },
    {
      "cell_type": "code",
      "metadata": {
        "colab": {
          "base_uri": "https://localhost:8080/"
        },
        "id": "pOYITn8Vk56M",
        "outputId": "d8fc6871-4d4d-49c1-92dc-332e4a1ae297"
      },
      "source": [
        "benim_rand_list"
      ],
      "execution_count": 34,
      "outputs": [
        {
          "output_type": "execute_result",
          "data": {
            "text/plain": [
              "array([ 3, 90, 70, 89,  3, 71, 70, 39, 81, 47, 65, 34, 23, 86, 98, 47,  9,\n",
              "       10, 53, 63, 79, 88, 50, 72, 52, 75, 49, 97, 89, 31])"
            ]
          },
          "metadata": {
            "tags": []
          },
          "execution_count": 34
        }
      ]
    },
    {
      "cell_type": "code",
      "metadata": {
        "colab": {
          "base_uri": "https://localhost:8080/"
        },
        "id": "zymDGXD4k89V",
        "outputId": "9d7acba0-e6f6-4fed-c583-55ccb8938ed1"
      },
      "source": [
        "benim_rand_list.shape"
      ],
      "execution_count": 35,
      "outputs": [
        {
          "output_type": "execute_result",
          "data": {
            "text/plain": [
              "(30,)"
            ]
          },
          "metadata": {
            "tags": []
          },
          "execution_count": 35
        }
      ]
    },
    {
      "cell_type": "code",
      "metadata": {
        "colab": {
          "base_uri": "https://localhost:8080/"
        },
        "id": "JHVhzAeXlDLa",
        "outputId": "0f9fb41d-cfa5-4e43-c30d-a0633f7bb3ee"
      },
      "source": [
        "shapelenmis_list = benim_rand_list.reshape(6,5)\r\n",
        "shapelenmis_list.shape"
      ],
      "execution_count": 37,
      "outputs": [
        {
          "output_type": "execute_result",
          "data": {
            "text/plain": [
              "(6, 5)"
            ]
          },
          "metadata": {
            "tags": []
          },
          "execution_count": 37
        }
      ]
    },
    {
      "cell_type": "markdown",
      "metadata": {
        "id": "2x_yNlxrlVG8"
      },
      "source": [
        "# **İndex yapısı**"
      ]
    },
    {
      "cell_type": "code",
      "metadata": {
        "colab": {
          "base_uri": "https://localhost:8080/"
        },
        "id": "VmieFTGvlZoH",
        "outputId": "bf894d5e-759f-4310-d86e-757467da80ae"
      },
      "source": [
        "listem= np.arange(0,100,10)\r\n",
        "listem"
      ],
      "execution_count": 39,
      "outputs": [
        {
          "output_type": "execute_result",
          "data": {
            "text/plain": [
              "array([ 0, 10, 20, 30, 40, 50, 60, 70, 80, 90])"
            ]
          },
          "metadata": {
            "tags": []
          },
          "execution_count": 39
        }
      ]
    },
    {
      "cell_type": "code",
      "metadata": {
        "colab": {
          "base_uri": "https://localhost:8080/"
        },
        "id": "6SuTSOQklh4C",
        "outputId": "31631c1e-dbaf-4d00-e61e-0360bd5c8743"
      },
      "source": [
        "print(listem[0] ,listem[5], sep=\" \")"
      ],
      "execution_count": 43,
      "outputs": [
        {
          "output_type": "stream",
          "text": [
            "0 50\n"
          ],
          "name": "stdout"
        }
      ]
    },
    {
      "cell_type": "code",
      "metadata": {
        "colab": {
          "base_uri": "https://localhost:8080/"
        },
        "id": "72pCDApPl6Vr",
        "outputId": "021f8dcd-6ec0-4996-fef9-d1727ebf692a"
      },
      "source": [
        "liste2 = np.arange(0,20)\r\n",
        "liste2[0:6] # ilk yazılan sayı başlangıç (0) ve ikinci sayı durulacak sayı (6)"
      ],
      "execution_count": 44,
      "outputs": [
        {
          "output_type": "execute_result",
          "data": {
            "text/plain": [
              "array([0, 1, 2, 3, 4, 5])"
            ]
          },
          "metadata": {
            "tags": []
          },
          "execution_count": 44
        }
      ]
    },
    {
      "cell_type": "code",
      "metadata": {
        "colab": {
          "base_uri": "https://localhost:8080/"
        },
        "id": "qFyflKZNmOWm",
        "outputId": "d4640ed1-67cd-4ff3-d8b3-75611de91570"
      },
      "source": [
        "#aralıktaki sayıları değiştirmek için de aynı üstteki gibi yapabiliriz \r\n",
        "liste2"
      ],
      "execution_count": 45,
      "outputs": [
        {
          "output_type": "execute_result",
          "data": {
            "text/plain": [
              "array([ 0,  1,  2,  3,  4,  5,  6,  7,  8,  9, 10, 11, 12, 13, 14, 15, 16,\n",
              "       17, 18, 19])"
            ]
          },
          "metadata": {
            "tags": []
          },
          "execution_count": 45
        }
      ]
    },
    {
      "cell_type": "code",
      "metadata": {
        "colab": {
          "base_uri": "https://localhost:8080/"
        },
        "id": "AXgZe3hmmY6e",
        "outputId": "9ebfa063-b05f-455e-c754-cb2a20f11785"
      },
      "source": [
        "liste2[0:6] =1\r\n",
        "liste2"
      ],
      "execution_count": 47,
      "outputs": [
        {
          "output_type": "execute_result",
          "data": {
            "text/plain": [
              "array([ 1,  1,  1,  1,  1,  1,  6,  7,  8,  9, 10, 11, 12, 13, 14, 15, 16,\n",
              "       17, 18, 19])"
            ]
          },
          "metadata": {
            "tags": []
          },
          "execution_count": 47
        }
      ]
    },
    {
      "cell_type": "code",
      "metadata": {
        "colab": {
          "base_uri": "https://localhost:8080/"
        },
        "id": "jFUuxVXcm2yH",
        "outputId": "a3a4d0e5-7519-4957-e528-5dd6b5df22a4"
      },
      "source": [
        "liste2[:] #tüm sayıları getirir"
      ],
      "execution_count": 48,
      "outputs": [
        {
          "output_type": "execute_result",
          "data": {
            "text/plain": [
              "array([ 1,  1,  1,  1,  1,  1,  6,  7,  8,  9, 10, 11, 12, 13, 14, 15, 16,\n",
              "       17, 18, 19])"
            ]
          },
          "metadata": {
            "tags": []
          },
          "execution_count": 48
        }
      ]
    },
    {
      "cell_type": "code",
      "metadata": {
        "colab": {
          "base_uri": "https://localhost:8080/"
        },
        "id": "jthe7ucPm_13",
        "outputId": "36c5320e-f68e-428a-9086-14a671e78e58"
      },
      "source": [
        "yeni_liste= np.arange(0,20)\r\n",
        "yeni_liste\r\n"
      ],
      "execution_count": 50,
      "outputs": [
        {
          "output_type": "execute_result",
          "data": {
            "text/plain": [
              "array([ 0,  1,  2,  3,  4,  5,  6,  7,  8,  9, 10, 11, 12, 13, 14, 15, 16,\n",
              "       17, 18, 19])"
            ]
          },
          "metadata": {
            "tags": []
          },
          "execution_count": 50
        }
      ]
    },
    {
      "cell_type": "code",
      "metadata": {
        "colab": {
          "base_uri": "https://localhost:8080/"
        },
        "id": "Mz4eysMWnKxM",
        "outputId": "7e20c828-eac0-48e0-e2a6-a760178b76c9"
      },
      "source": [
        "baskadizi= yeni_liste[0:11]\r\n",
        "baskadizi"
      ],
      "execution_count": 52,
      "outputs": [
        {
          "output_type": "execute_result",
          "data": {
            "text/plain": [
              "array([ 0,  1,  2,  3,  4,  5,  6,  7,  8,  9, 10])"
            ]
          },
          "metadata": {
            "tags": []
          },
          "execution_count": 52
        }
      ]
    },
    {
      "cell_type": "code",
      "metadata": {
        "colab": {
          "base_uri": "https://localhost:8080/"
        },
        "id": "7hQhxpnBnTGB",
        "outputId": "064a5c37-088b-41ba-f254-2bce9cd12216"
      },
      "source": [
        "#peki baska dizimizde değişiklik yaparsak neler olacağına bakalım\r\n",
        "baskadizi[:] = 9\r\n",
        "baskadizi\r\n",
        "# gördüğünüz gibi değişti fakat "
      ],
      "execution_count": 54,
      "outputs": [
        {
          "output_type": "execute_result",
          "data": {
            "text/plain": [
              "array([9, 9, 9, 9, 9, 9, 9, 9, 9, 9, 9])"
            ]
          },
          "metadata": {
            "tags": []
          },
          "execution_count": 54
        }
      ]
    },
    {
      "cell_type": "code",
      "metadata": {
        "colab": {
          "base_uri": "https://localhost:8080/"
        },
        "id": "POZ7ghG1ngdL",
        "outputId": "7b5024a2-f37d-4af3-9368-f6fbc00199f1"
      },
      "source": [
        "yeni_liste # bu liste de değişti"
      ],
      "execution_count": 55,
      "outputs": [
        {
          "output_type": "execute_result",
          "data": {
            "text/plain": [
              "array([ 9,  9,  9,  9,  9,  9,  9,  9,  9,  9,  9, 11, 12, 13, 14, 15, 16,\n",
              "       17, 18, 19])"
            ]
          },
          "metadata": {
            "tags": []
          },
          "execution_count": 55
        }
      ]
    },
    {
      "cell_type": "code",
      "metadata": {
        "id": "B_-WmDkRnp9f"
      },
      "source": [
        "listev3 = np.arange(0,50)\r\n",
        "listev3_kopya = listev3.copy()"
      ],
      "execution_count": 56,
      "outputs": []
    },
    {
      "cell_type": "code",
      "metadata": {
        "colab": {
          "base_uri": "https://localhost:8080/"
        },
        "id": "pFmGmDoVn3ha",
        "outputId": "039429d6-a8f7-430c-ad42-2a27e3b9046c"
      },
      "source": [
        "listev3_kopya[0:11] = 31\r\n",
        "listev3_kopya"
      ],
      "execution_count": 57,
      "outputs": [
        {
          "output_type": "execute_result",
          "data": {
            "text/plain": [
              "array([31, 31, 31, 31, 31, 31, 31, 31, 31, 31, 31, 11, 12, 13, 14, 15, 16,\n",
              "       17, 18, 19, 20, 21, 22, 23, 24, 25, 26, 27, 28, 29, 30, 31, 32, 33,\n",
              "       34, 35, 36, 37, 38, 39, 40, 41, 42, 43, 44, 45, 46, 47, 48, 49])"
            ]
          },
          "metadata": {
            "tags": []
          },
          "execution_count": 57
        }
      ]
    },
    {
      "cell_type": "code",
      "metadata": {
        "colab": {
          "base_uri": "https://localhost:8080/"
        },
        "id": "3i9myE7UoBmM",
        "outputId": "919cae6c-3de8-47d7-9b18-f66a806038dc"
      },
      "source": [
        "listev3 # gördüğünüz gibi liste v3 değişmedi"
      ],
      "execution_count": 58,
      "outputs": [
        {
          "output_type": "execute_result",
          "data": {
            "text/plain": [
              "array([ 0,  1,  2,  3,  4,  5,  6,  7,  8,  9, 10, 11, 12, 13, 14, 15, 16,\n",
              "       17, 18, 19, 20, 21, 22, 23, 24, 25, 26, 27, 28, 29, 30, 31, 32, 33,\n",
              "       34, 35, 36, 37, 38, 39, 40, 41, 42, 43, 44, 45, 46, 47, 48, 49])"
            ]
          },
          "metadata": {
            "tags": []
          },
          "execution_count": 58
        }
      ]
    },
    {
      "cell_type": "markdown",
      "metadata": {
        "id": "7nuk2CvuoWOs"
      },
      "source": [
        "# **MATRİXLER**"
      ]
    },
    {
      "cell_type": "code",
      "metadata": {
        "colab": {
          "base_uri": "https://localhost:8080/"
        },
        "id": "VrG2BwCGoYsq",
        "outputId": "d1a5b596-64ce-4dd5-9d64-25046b59de33"
      },
      "source": [
        "matrix_listem = [[1,2,3],[4,5,6],[7,8,9]]\r\n",
        "matrix_listem = np.array(matrix_listem)\r\n",
        "matrix_listem"
      ],
      "execution_count": 60,
      "outputs": [
        {
          "output_type": "execute_result",
          "data": {
            "text/plain": [
              "array([[1, 2, 3],\n",
              "       [4, 5, 6],\n",
              "       [7, 8, 9]])"
            ]
          },
          "metadata": {
            "tags": []
          },
          "execution_count": 60
        }
      ]
    },
    {
      "cell_type": "code",
      "metadata": {
        "colab": {
          "base_uri": "https://localhost:8080/"
        },
        "id": "a0fB4E0gov6j",
        "outputId": "de84b5d4-3d32-4b40-c299-a3476352ee19"
      },
      "source": [
        "matrix_listem[0]"
      ],
      "execution_count": 61,
      "outputs": [
        {
          "output_type": "execute_result",
          "data": {
            "text/plain": [
              "array([1, 2, 3])"
            ]
          },
          "metadata": {
            "tags": []
          },
          "execution_count": 61
        }
      ]
    },
    {
      "cell_type": "code",
      "metadata": {
        "colab": {
          "base_uri": "https://localhost:8080/"
        },
        "id": "iBatnFn3o0TO",
        "outputId": "09767d3c-e444-4f46-ba35-17475063cba6"
      },
      "source": [
        "matrix_listem[0][0]"
      ],
      "execution_count": 62,
      "outputs": [
        {
          "output_type": "execute_result",
          "data": {
            "text/plain": [
              "1"
            ]
          },
          "metadata": {
            "tags": []
          },
          "execution_count": 62
        }
      ]
    },
    {
      "cell_type": "code",
      "metadata": {
        "colab": {
          "base_uri": "https://localhost:8080/"
        },
        "id": "Xu33pT-Ko4fm",
        "outputId": "d07049a0-f162-4664-99d2-62ced385c867"
      },
      "source": [
        "matrix_listem[0,0]"
      ],
      "execution_count": 64,
      "outputs": [
        {
          "output_type": "execute_result",
          "data": {
            "text/plain": [
              "1"
            ]
          },
          "metadata": {
            "tags": []
          },
          "execution_count": 64
        }
      ]
    },
    {
      "cell_type": "code",
      "metadata": {
        "colab": {
          "base_uri": "https://localhost:8080/"
        },
        "id": "1WFbl-Uio9jU",
        "outputId": "b20ea87e-db82-4d75-83b0-bc169e3ceec2"
      },
      "source": [
        "#1. ve 2. rowdaki 0 inci indeksi almak istiyorsak\r\n",
        "matrix_listem[1:,0]"
      ],
      "execution_count": 71,
      "outputs": [
        {
          "output_type": "execute_result",
          "data": {
            "text/plain": [
              "array([4, 7])"
            ]
          },
          "metadata": {
            "tags": []
          },
          "execution_count": 71
        }
      ]
    },
    {
      "cell_type": "code",
      "metadata": {
        "colab": {
          "base_uri": "https://localhost:8080/"
        },
        "id": "CE5OZsfspeD7",
        "outputId": "350cdd38-e29e-4cb5-931b-38935a46356f"
      },
      "source": [
        "matrix_listem[:1] # 1. listeyi döndürdü sadece"
      ],
      "execution_count": 73,
      "outputs": [
        {
          "output_type": "execute_result",
          "data": {
            "text/plain": [
              "array([[1, 2, 3]])"
            ]
          },
          "metadata": {
            "tags": []
          },
          "execution_count": 73
        }
      ]
    },
    {
      "cell_type": "code",
      "metadata": {
        "colab": {
          "base_uri": "https://localhost:8080/"
        },
        "id": "6IrQGcG1pqlM",
        "outputId": "3fbc4005-1e61-4002-cf3b-d5dc7987b48e"
      },
      "source": [
        "matrix_listem[1:] # 1. listeden sonrasını döndürdü"
      ],
      "execution_count": 74,
      "outputs": [
        {
          "output_type": "execute_result",
          "data": {
            "text/plain": [
              "array([[4, 5, 6],\n",
              "       [7, 8, 9]])"
            ]
          },
          "metadata": {
            "tags": []
          },
          "execution_count": 74
        }
      ]
    },
    {
      "cell_type": "code",
      "metadata": {
        "colab": {
          "base_uri": "https://localhost:8080/"
        },
        "id": "aiVg2hsSp6EO",
        "outputId": "878be4ba-3b3a-4e54-aabc-2290b05c95cb"
      },
      "source": [
        "# row seçici\r\n",
        "matrix_listem[ [0,1]  ] # gördüğünüz gibi 0. ve 1. listeyi verdi. 2 den fazla seçebiliyorsunuz"
      ],
      "execution_count": 75,
      "outputs": [
        {
          "output_type": "execute_result",
          "data": {
            "text/plain": [
              "array([[1, 2, 3],\n",
              "       [4, 5, 6]])"
            ]
          },
          "metadata": {
            "tags": []
          },
          "execution_count": 75
        }
      ]
    },
    {
      "cell_type": "markdown",
      "metadata": {
        "id": "Sf-96CIcqX_g"
      },
      "source": [
        "## **Operasyonlar**"
      ]
    },
    {
      "cell_type": "code",
      "metadata": {
        "colab": {
          "base_uri": "https://localhost:8080/"
        },
        "id": "bOHx2h3QqaP5",
        "outputId": "06510975-cdad-413c-9a77-16e213053319"
      },
      "source": [
        "operasyon_listesi = np.arange(0,30)\r\n",
        "operasyon_listesi "
      ],
      "execution_count": 79,
      "outputs": [
        {
          "output_type": "execute_result",
          "data": {
            "text/plain": [
              "array([ 0,  1,  2,  3,  4,  5,  6,  7,  8,  9, 10, 11, 12, 13, 14, 15, 16,\n",
              "       17, 18, 19, 20, 21, 22, 23, 24, 25, 26, 27, 28, 29])"
            ]
          },
          "metadata": {
            "tags": []
          },
          "execution_count": 79
        }
      ]
    },
    {
      "cell_type": "code",
      "metadata": {
        "colab": {
          "base_uri": "https://localhost:8080/"
        },
        "id": "W4fAvLCqqq5M",
        "outputId": "e8eb7004-2d27-4041-a0b2-18b9cb822652"
      },
      "source": [
        "operasyon_listesi > 5 # 5 den büyükler true oldu. peki ture ları nasıl yazdıracağız derseniz"
      ],
      "execution_count": 80,
      "outputs": [
        {
          "output_type": "execute_result",
          "data": {
            "text/plain": [
              "array([False, False, False, False, False, False,  True,  True,  True,\n",
              "        True,  True,  True,  True,  True,  True,  True,  True,  True,\n",
              "        True,  True,  True,  True,  True,  True,  True,  True,  True,\n",
              "        True,  True,  True])"
            ]
          },
          "metadata": {
            "tags": []
          },
          "execution_count": 80
        }
      ]
    },
    {
      "cell_type": "code",
      "metadata": {
        "colab": {
          "base_uri": "https://localhost:8080/"
        },
        "id": "KhG7bbdwq7-e",
        "outputId": "5b6e8943-2e6e-4059-ef17-53421915cb85"
      },
      "source": [
        "turueler = operasyon_listesi >5\r\n",
        "operasyon_listesi[turueler] # 5 den büyükler yazıldı"
      ],
      "execution_count": 81,
      "outputs": [
        {
          "output_type": "execute_result",
          "data": {
            "text/plain": [
              "array([ 6,  7,  8,  9, 10, 11, 12, 13, 14, 15, 16, 17, 18, 19, 20, 21, 22,\n",
              "       23, 24, 25, 26, 27, 28, 29])"
            ]
          },
          "metadata": {
            "tags": []
          },
          "execution_count": 81
        }
      ]
    },
    {
      "cell_type": "code",
      "metadata": {
        "colab": {
          "base_uri": "https://localhost:8080/"
        },
        "id": "CleK_vExrMTY",
        "outputId": "78d27362-5ff8-41a4-aaf4-7a08c1c631d9"
      },
      "source": [
        "operasyon_listesi + operasyon_listesi # diziler toplanabilir, çarpılabili, bölünebilir ama 0 a bölüm hatalı çıkar kök buluanbilir"
      ],
      "execution_count": 82,
      "outputs": [
        {
          "output_type": "execute_result",
          "data": {
            "text/plain": [
              "array([ 0,  2,  4,  6,  8, 10, 12, 14, 16, 18, 20, 22, 24, 26, 28, 30, 32,\n",
              "       34, 36, 38, 40, 42, 44, 46, 48, 50, 52, 54, 56, 58])"
            ]
          },
          "metadata": {
            "tags": []
          },
          "execution_count": 82
        }
      ]
    },
    {
      "cell_type": "code",
      "metadata": {
        "colab": {
          "base_uri": "https://localhost:8080/"
        },
        "id": "D-NWLJAZrfAz",
        "outputId": "414f5db8-382a-4935-ebfa-6086bcbb65d6"
      },
      "source": [
        "np.sqrt(operasyon_listesi) # köklerini bulduk"
      ],
      "execution_count": 83,
      "outputs": [
        {
          "output_type": "execute_result",
          "data": {
            "text/plain": [
              "array([0.        , 1.        , 1.41421356, 1.73205081, 2.        ,\n",
              "       2.23606798, 2.44948974, 2.64575131, 2.82842712, 3.        ,\n",
              "       3.16227766, 3.31662479, 3.46410162, 3.60555128, 3.74165739,\n",
              "       3.87298335, 4.        , 4.12310563, 4.24264069, 4.35889894,\n",
              "       4.47213595, 4.58257569, 4.69041576, 4.79583152, 4.89897949,\n",
              "       5.        , 5.09901951, 5.19615242, 5.29150262, 5.38516481])"
            ]
          },
          "metadata": {
            "tags": []
          },
          "execution_count": 83
        }
      ]
    }
  ]
}